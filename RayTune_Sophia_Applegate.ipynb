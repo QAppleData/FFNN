{
 "cells": [
  {
   "cell_type": "code",
   "execution_count": null,
   "metadata": {},
   "outputs": [],
   "source": [
    "#pip install ray torch torchvision\n",
    "#pip install ray[tune]"
   ]
  },
  {
   "cell_type": "code",
   "execution_count": 48,
   "metadata": {},
   "outputs": [],
   "source": [
    "import numpy as np\n",
    "import warnings\n",
    "warnings.filterwarnings('ignore')\n",
    "warnings.simplefilter('ignore')\n",
    "import os\n",
    "import torch\n",
    "import torch.nn as nn\n",
    "import torch.optim as optim\n",
    "import torch.nn.functional as F\n",
    "import torchvision\n",
    "import torch.utils.data\n",
    "import torchvision.transforms as transforms"
   ]
  },
  {
   "cell_type": "code",
   "execution_count": 49,
   "metadata": {},
   "outputs": [],
   "source": [
    "from ray.tune.examples.mnist_pytorch import train, test, ConvNet, get_data_loaders\n",
    "import ray\n",
    "from ray import tune\n",
    "from ray.tune import track\n",
    "from ray.tune.schedulers import PopulationBasedTraining\n",
    "from ray.tune.utils import validate_save_restore"
   ]
  },
  {
   "cell_type": "code",
   "execution_count": 50,
   "metadata": {},
   "outputs": [],
   "source": [
    "transform = transforms.Compose([transforms.ToTensor(),transforms.Normalize((0.1307), ((0.3081)))])"
   ]
  },
  {
   "cell_type": "code",
   "execution_count": 51,
   "metadata": {},
   "outputs": [],
   "source": [
    "trainset = torchvision.datasets.MNIST('mnist', train=True, download=True, transform=transform)\n",
    "testset = torchvision.datasets.MNIST('mnist', train=False, download=True, transform=transform)\n",
    "\n",
    "trainloader = torch.utils.data.DataLoader(trainset, batch_size=32,shuffle=True, num_workers=0)\n",
    "testloader = torch.utils.data.DataLoader(testset, batch_size=32,shuffle=False, num_workers=0) "
   ]
  },
  {
   "cell_type": "code",
   "execution_count": 52,
   "metadata": {},
   "outputs": [],
   "source": [
    "class Net(nn.Module):\n",
    "    def __init__(self,num_unit):    \n",
    "        super(Net, self).__init__()\n",
    "        self.num_unit = num_unit\n",
    "        self.fc1 = nn.Linear(28 * 28 * 1, self.num_unit)\n",
    "        self.fc2 = nn.Linear(self.num_unit,10)\n",
    "\n",
    "    def forward(self, x):\n",
    "        x = torch.flatten(x, 1)\n",
    "        x = F.relu(self.fc1(x))\n",
    "        x = self.fc2(x)\n",
    "        output = F.log_softmax(x, dim=1)\n",
    "        return output"
   ]
  },
  {
   "cell_type": "code",
   "execution_count": 57,
   "metadata": {},
   "outputs": [
    {
     "name": "stderr",
     "output_type": "stream",
     "text": [
      "2020-11-19 16:14:21,887\tINFO services.py:1090 -- View the Ray dashboard at \u001b[1m\u001b[32mhttp://127.0.0.1:8265\u001b[39m\u001b[22m\n",
      "2020-11-19 16:14:29,137\tWARNING worker.py:1091 -- Warning: The actor PytorchTrainble has size 55445867 when pickled. It will be stored in Redis, which could cause memory issues. This may mean that its definition uses a large array or other object.\n",
      "2020-11-19 16:14:33,430\tWARNING worker.py:1091 -- Warning: The actor PytorchTrainble has size 55445867 when pickled. It will be stored in Redis, which could cause memory issues. This may mean that its definition uses a large array or other object.\n"
     ]
    },
    {
     "name": "stdout",
     "output_type": "stream",
     "text": [
      "Success!\n"
     ]
    }
   ],
   "source": [
    "class PytorchTrainble(tune.Trainable):\n",
    "    def _setup(self, config):\n",
    "        self.device = torch.device(\"cuda\")\n",
    "        self.train_loader = trainloader\n",
    "        self.test_loader = testloader\n",
    "        self.num_unit = config.get(\"num_unit\",200)\n",
    "        self.model = Net(self.num_unit).to(self.device)\n",
    "        self.optimizer = optim.SGD(\n",
    "            self.model.parameters(),\n",
    "            lr=config.get(\"lr\", 0.01),\n",
    "            momentum=config.get(\"momentum\", 0.9))\n",
    "\n",
    "    def _train(self):\n",
    "        train(self.model, self.optimizer, self.train_loader, device=self.device)\n",
    "        acc = test(self.model, self.test_loader, self.device)\n",
    "        return {\"mean_accuracy\": acc}\n",
    "\n",
    "    def _save(self, checkpoint_dir):\n",
    "        checkpoint_path = os.path.join(checkpoint_dir, \"model.pth\")\n",
    "        torch.save(self.model.state_dict(), checkpoint_path)\n",
    "        return checkpoint_path\n",
    "\n",
    "    def _restore(self, checkpoint_path):\n",
    "        self.model.load_state_dict(torch.load(checkpoint_path))\n",
    "        \n",
    "    def reset_config(self, new_config):\n",
    "        del self.optimizer\n",
    "        self.optimizer = optim.SGD(\n",
    "            self.model.parameters(),\n",
    "            lr=new_config.get(\"lr\", 0.01),\n",
    "            momentum=new_config.get(\"momentum\", 0.9))\n",
    "        del self.num_unit\n",
    "        self.num_unit = new_config.get(\"num_unit\",200)\n",
    "        return True\n",
    "\n",
    "\n",
    "ray.shutdown()  # Restart Ray defensively in case the ray connection is lost. \n",
    "ray.init(log_to_driver=False)\n",
    "\n",
    "validate_save_restore(PytorchTrainble)\n",
    "validate_save_restore(PytorchTrainble, use_object_store=True)\n",
    "print(\"Success!\")"
   ]
  },
  {
   "cell_type": "code",
   "execution_count": 62,
   "metadata": {},
   "outputs": [],
   "source": [
    "scheduler = PopulationBasedTraining(\n",
    "    time_attr=\"training_iteration\",\n",
    "    metric=\"mean_accuracy\",\n",
    "    mode=\"max\",\n",
    "    perturbation_interval=5,\n",
    "    hyperparam_mutations={\n",
    "        # distribution for resampling\n",
    "        \"lr\": lambda: np.random.uniform(0.0001,0.1),\n",
    "        # allow perturbations within this set of categorical values\n",
    "        \"momentum\": [0.8, 0.9, 0.99],\n",
    "        \"num_unit\": [100,400],\n",
    "    }\n",
    ")"
   ]
  },
  {
   "cell_type": "code",
   "execution_count": 63,
   "metadata": {},
   "outputs": [
    {
     "data": {
      "text/html": [
       "== Status ==<br>Memory usage on this node: 9.2/15.7 GiB<br>PopulationBasedTraining: 47 checkpoints, 34 perturbs<br>Resources requested: 0/12 CPUs, 0/1 GPUs, 0.0/7.42 GiB heap, 0.0/2.54 GiB objects<br>Result logdir: C:\\Users\\bluev\\ray_results\\pbt_test<br>Number of trials: 8/8 (8 TERMINATED)<br><table>\n",
       "<thead>\n",
       "<tr><th>Trial name                 </th><th>status    </th><th>loc  </th><th style=\"text-align: right;\">        lr</th><th style=\"text-align: right;\">  momentum</th><th style=\"text-align: right;\">  num_unit</th><th style=\"text-align: right;\">     acc</th><th style=\"text-align: right;\">  iter</th><th style=\"text-align: right;\">  total time (s)</th></tr>\n",
       "</thead>\n",
       "<tbody>\n",
       "<tr><td>PytorchTrainble_ef0bc_00000</td><td>TERMINATED</td><td>     </td><td style=\"text-align: right;\">0.00849265</td><td style=\"text-align: right;\">  0.9     </td><td style=\"text-align: right;\">       100</td><td style=\"text-align: right;\">0.902778</td><td style=\"text-align: right;\">   100</td><td style=\"text-align: right;\">         16.1697</td></tr>\n",
       "<tr><td>PytorchTrainble_ef0bc_00001</td><td>TERMINATED</td><td>     </td><td style=\"text-align: right;\">0.00884651</td><td style=\"text-align: right;\">  0.946727</td><td style=\"text-align: right;\">       352</td><td style=\"text-align: right;\">0.982639</td><td style=\"text-align: right;\">   100</td><td style=\"text-align: right;\">         16.3634</td></tr>\n",
       "<tr><td>PytorchTrainble_ef0bc_00002</td><td>TERMINATED</td><td>     </td><td style=\"text-align: right;\">0.068165  </td><td style=\"text-align: right;\">  0.9     </td><td style=\"text-align: right;\">       400</td><td style=\"text-align: right;\">0.8125  </td><td style=\"text-align: right;\">   100</td><td style=\"text-align: right;\">         15.9656</td></tr>\n",
       "<tr><td>PytorchTrainble_ef0bc_00003</td><td>TERMINATED</td><td>     </td><td style=\"text-align: right;\">0.00707721</td><td style=\"text-align: right;\">  0.8     </td><td style=\"text-align: right;\">       400</td><td style=\"text-align: right;\">0.979167</td><td style=\"text-align: right;\">   100</td><td style=\"text-align: right;\">         16.2246</td></tr>\n",
       "<tr><td>PytorchTrainble_ef0bc_00004</td><td>TERMINATED</td><td>     </td><td style=\"text-align: right;\">0.00567943</td><td style=\"text-align: right;\">  0.919605</td><td style=\"text-align: right;\">       158</td><td style=\"text-align: right;\">0.975694</td><td style=\"text-align: right;\">   100</td><td style=\"text-align: right;\">         16.0145</td></tr>\n",
       "<tr><td>PytorchTrainble_ef0bc_00005</td><td>TERMINATED</td><td>     </td><td style=\"text-align: right;\">0.0568041 </td><td style=\"text-align: right;\">  0.494536</td><td style=\"text-align: right;\">       196</td><td style=\"text-align: right;\">0.961806</td><td style=\"text-align: right;\">   100</td><td style=\"text-align: right;\">         15.9995</td></tr>\n",
       "<tr><td>PytorchTrainble_ef0bc_00006</td><td>TERMINATED</td><td>     </td><td style=\"text-align: right;\">0.0409442 </td><td style=\"text-align: right;\">  0.684965</td><td style=\"text-align: right;\">       228</td><td style=\"text-align: right;\">0.982639</td><td style=\"text-align: right;\">   100</td><td style=\"text-align: right;\">         16.3631</td></tr>\n",
       "<tr><td>PytorchTrainble_ef0bc_00007</td><td>TERMINATED</td><td>     </td><td style=\"text-align: right;\">0.00707721</td><td style=\"text-align: right;\">  0.9     </td><td style=\"text-align: right;\">       400</td><td style=\"text-align: right;\">0.972222</td><td style=\"text-align: right;\">   100</td><td style=\"text-align: right;\">         16.1774</td></tr>\n",
       "</tbody>\n",
       "</table><br><br>"
      ],
      "text/plain": [
       "<IPython.core.display.HTML object>"
      ]
     },
     "metadata": {},
     "output_type": "display_data"
    },
    {
     "name": "stderr",
     "output_type": "stream",
     "text": [
      "2020-11-19 16:20:39,741\tINFO tune.py:439 -- Total run time: 61.19 seconds (58.74 seconds for the tuning loop).\n",
      "2020-11-19 16:20:40,489\tERROR worker.py:1037 -- Possible unhandled error from worker: \u001b[36mray::PytorchTrainble.restore_from_object()\u001b[39m (pid=9376, ip=192.168.1.41)\n",
      "  File \"python\\ray\\_raylet.pyx\", line 482, in ray._raylet.execute_task\n",
      "  File \"python\\ray\\_raylet.pyx\", line 436, in ray._raylet.execute_task.function_executor\n",
      "  File \"C:\\Users\\bluev\\Anaconda3\\lib\\site-packages\\ray\\function_manager.py\", line 553, in actor_method_executor\n",
      "    return method(actor, *args, **kwargs)\n",
      "  File \"C:\\Users\\bluev\\Anaconda3\\lib\\site-packages\\ray\\tune\\trainable.py\", line 498, in restore_from_object\n",
      "    self.restore(checkpoint_path)\n",
      "  File \"C:\\Users\\bluev\\Anaconda3\\lib\\site-packages\\ray\\tune\\trainable.py\", line 476, in restore\n",
      "    self.load_checkpoint(checkpoint_path)\n",
      "  File \"C:\\Users\\bluev\\Anaconda3\\lib\\site-packages\\ray\\tune\\trainable.py\", line 853, in load_checkpoint\n",
      "    self._restore(checkpoint)\n",
      "  File \"<ipython-input-57-0b176034c084>\", line 24, in _restore\n",
      "  File \"C:\\Users\\bluev\\Anaconda3\\lib\\site-packages\\torch\\nn\\modules\\module.py\", line 1044, in load_state_dict\n",
      "    raise RuntimeError('Error(s) in loading state_dict for {}:\\n\\t{}'.format(\n",
      "RuntimeError: Error(s) in loading state_dict for Net:\n",
      "\tsize mismatch for fc1.weight: copying a param with shape torch.Size([228, 784]) from checkpoint, the shape in current model is torch.Size([222, 784]).\n",
      "\tsize mismatch for fc1.bias: copying a param with shape torch.Size([228]) from checkpoint, the shape in current model is torch.Size([222]).\n",
      "\tsize mismatch for fc2.weight: copying a param with shape torch.Size([10, 228]) from checkpoint, the shape in current model is torch.Size([10, 222]).\n",
      "2020-11-19 16:20:40,489\tERROR worker.py:1037 -- Possible unhandled error from worker: \u001b[36mray::PytorchTrainble.restore_from_object()\u001b[39m (pid=18248, ip=192.168.1.41)\n",
      "  File \"python\\ray\\_raylet.pyx\", line 482, in ray._raylet.execute_task\n",
      "  File \"python\\ray\\_raylet.pyx\", line 436, in ray._raylet.execute_task.function_executor\n",
      "  File \"C:\\Users\\bluev\\Anaconda3\\lib\\site-packages\\ray\\function_manager.py\", line 553, in actor_method_executor\n",
      "    return method(actor, *args, **kwargs)\n",
      "  File \"C:\\Users\\bluev\\Anaconda3\\lib\\site-packages\\ray\\tune\\trainable.py\", line 498, in restore_from_object\n",
      "    self.restore(checkpoint_path)\n",
      "  File \"C:\\Users\\bluev\\Anaconda3\\lib\\site-packages\\ray\\tune\\trainable.py\", line 476, in restore\n",
      "    self.load_checkpoint(checkpoint_path)\n",
      "  File \"C:\\Users\\bluev\\Anaconda3\\lib\\site-packages\\ray\\tune\\trainable.py\", line 853, in load_checkpoint\n",
      "    self._restore(checkpoint)\n",
      "  File \"<ipython-input-57-0b176034c084>\", line 24, in _restore\n",
      "  File \"C:\\Users\\bluev\\Anaconda3\\lib\\site-packages\\torch\\nn\\modules\\module.py\", line 1044, in load_state_dict\n",
      "    raise RuntimeError('Error(s) in loading state_dict for {}:\\n\\t{}'.format(\n",
      "RuntimeError: Error(s) in loading state_dict for Net:\n",
      "\tsize mismatch for fc1.weight: copying a param with shape torch.Size([196, 784]) from checkpoint, the shape in current model is torch.Size([159, 784]).\n",
      "\tsize mismatch for fc1.bias: copying a param with shape torch.Size([196]) from checkpoint, the shape in current model is torch.Size([159]).\n",
      "\tsize mismatch for fc2.weight: copying a param with shape torch.Size([10, 196]) from checkpoint, the shape in current model is torch.Size([10, 159]).\n",
      "2020-11-19 16:20:41,492\tERROR worker.py:1037 -- Possible unhandled error from worker: \u001b[36mray::PytorchTrainble.restore_from_object()\u001b[39m (pid=9376, ip=192.168.1.41)\n",
      "  File \"python\\ray\\_raylet.pyx\", line 482, in ray._raylet.execute_task\n",
      "  File \"python\\ray\\_raylet.pyx\", line 436, in ray._raylet.execute_task.function_executor\n",
      "  File \"C:\\Users\\bluev\\Anaconda3\\lib\\site-packages\\ray\\function_manager.py\", line 553, in actor_method_executor\n",
      "    return method(actor, *args, **kwargs)\n",
      "  File \"C:\\Users\\bluev\\Anaconda3\\lib\\site-packages\\ray\\tune\\trainable.py\", line 498, in restore_from_object\n",
      "    self.restore(checkpoint_path)\n",
      "  File \"C:\\Users\\bluev\\Anaconda3\\lib\\site-packages\\ray\\tune\\trainable.py\", line 476, in restore\n",
      "    self.load_checkpoint(checkpoint_path)\n",
      "  File \"C:\\Users\\bluev\\Anaconda3\\lib\\site-packages\\ray\\tune\\trainable.py\", line 853, in load_checkpoint\n",
      "    self._restore(checkpoint)\n",
      "  File \"<ipython-input-57-0b176034c084>\", line 24, in _restore\n",
      "  File \"C:\\Users\\bluev\\Anaconda3\\lib\\site-packages\\torch\\nn\\modules\\module.py\", line 1044, in load_state_dict\n",
      "    raise RuntimeError('Error(s) in loading state_dict for {}:\\n\\t{}'.format(\n",
      "RuntimeError: Error(s) in loading state_dict for Net:\n",
      "\tsize mismatch for fc1.weight: copying a param with shape torch.Size([352, 784]) from checkpoint, the shape in current model is torch.Size([222, 784]).\n",
      "\tsize mismatch for fc1.bias: copying a param with shape torch.Size([352]) from checkpoint, the shape in current model is torch.Size([222]).\n",
      "\tsize mismatch for fc2.weight: copying a param with shape torch.Size([10, 352]) from checkpoint, the shape in current model is torch.Size([10, 222]).\n",
      "2020-11-19 16:20:41,492\tERROR worker.py:1037 -- Possible unhandled error from worker: \u001b[36mray::PytorchTrainble.restore_from_object()\u001b[39m (pid=18248, ip=192.168.1.41)\n",
      "  File \"python\\ray\\_raylet.pyx\", line 482, in ray._raylet.execute_task\n",
      "  File \"python\\ray\\_raylet.pyx\", line 436, in ray._raylet.execute_task.function_executor\n",
      "  File \"C:\\Users\\bluev\\Anaconda3\\lib\\site-packages\\ray\\function_manager.py\", line 553, in actor_method_executor\n",
      "    return method(actor, *args, **kwargs)\n",
      "  File \"C:\\Users\\bluev\\Anaconda3\\lib\\site-packages\\ray\\tune\\trainable.py\", line 498, in restore_from_object\n",
      "    self.restore(checkpoint_path)\n",
      "  File \"C:\\Users\\bluev\\Anaconda3\\lib\\site-packages\\ray\\tune\\trainable.py\", line 476, in restore\n",
      "    self.load_checkpoint(checkpoint_path)\n",
      "  File \"C:\\Users\\bluev\\Anaconda3\\lib\\site-packages\\ray\\tune\\trainable.py\", line 853, in load_checkpoint\n",
      "    self._restore(checkpoint)\n",
      "  File \"<ipython-input-57-0b176034c084>\", line 24, in _restore\n",
      "  File \"C:\\Users\\bluev\\Anaconda3\\lib\\site-packages\\torch\\nn\\modules\\module.py\", line 1044, in load_state_dict\n",
      "    raise RuntimeError('Error(s) in loading state_dict for {}:\\n\\t{}'.format(\n",
      "RuntimeError: Error(s) in loading state_dict for Net:\n",
      "\tsize mismatch for fc1.weight: copying a param with shape torch.Size([352, 784]) from checkpoint, the shape in current model is torch.Size([159, 784]).\n",
      "\tsize mismatch for fc1.bias: copying a param with shape torch.Size([352]) from checkpoint, the shape in current model is torch.Size([159]).\n",
      "\tsize mismatch for fc2.weight: copying a param with shape torch.Size([10, 352]) from checkpoint, the shape in current model is torch.Size([10, 159]).\n",
      "2020-11-19 16:20:42,495\tERROR worker.py:1037 -- Possible unhandled error from worker: \u001b[36mray::PytorchTrainble.restore_from_object()\u001b[39m (pid=18248, ip=192.168.1.41)\n",
      "  File \"python\\ray\\_raylet.pyx\", line 482, in ray._raylet.execute_task\n",
      "  File \"python\\ray\\_raylet.pyx\", line 436, in ray._raylet.execute_task.function_executor\n",
      "  File \"C:\\Users\\bluev\\Anaconda3\\lib\\site-packages\\ray\\function_manager.py\", line 553, in actor_method_executor\n",
      "    return method(actor, *args, **kwargs)\n",
      "  File \"C:\\Users\\bluev\\Anaconda3\\lib\\site-packages\\ray\\tune\\trainable.py\", line 498, in restore_from_object\n",
      "    self.restore(checkpoint_path)\n",
      "  File \"C:\\Users\\bluev\\Anaconda3\\lib\\site-packages\\ray\\tune\\trainable.py\", line 476, in restore\n",
      "    self.load_checkpoint(checkpoint_path)\n",
      "  File \"C:\\Users\\bluev\\Anaconda3\\lib\\site-packages\\ray\\tune\\trainable.py\", line 853, in load_checkpoint\n",
      "    self._restore(checkpoint)\n",
      "  File \"<ipython-input-57-0b176034c084>\", line 24, in _restore\n",
      "  File \"C:\\Users\\bluev\\Anaconda3\\lib\\site-packages\\torch\\nn\\modules\\module.py\", line 1044, in load_state_dict\n",
      "    raise RuntimeError('Error(s) in loading state_dict for {}:\\n\\t{}'.format(\n",
      "RuntimeError: Error(s) in loading state_dict for Net:\n",
      "\tsize mismatch for fc1.weight: copying a param with shape torch.Size([196, 784]) from checkpoint, the shape in current model is torch.Size([159, 784]).\n",
      "\tsize mismatch for fc1.bias: copying a param with shape torch.Size([196]) from checkpoint, the shape in current model is torch.Size([159]).\n",
      "\tsize mismatch for fc2.weight: copying a param with shape torch.Size([10, 196]) from checkpoint, the shape in current model is torch.Size([10, 159]).\n",
      "2020-11-19 16:20:42,495\tERROR worker.py:1037 -- Possible unhandled error from worker: \u001b[36mray::PytorchTrainble.restore_from_object()\u001b[39m (pid=9376, ip=192.168.1.41)\n",
      "  File \"python\\ray\\_raylet.pyx\", line 482, in ray._raylet.execute_task\n",
      "  File \"python\\ray\\_raylet.pyx\", line 436, in ray._raylet.execute_task.function_executor\n",
      "  File \"C:\\Users\\bluev\\Anaconda3\\lib\\site-packages\\ray\\function_manager.py\", line 553, in actor_method_executor\n",
      "    return method(actor, *args, **kwargs)\n",
      "  File \"C:\\Users\\bluev\\Anaconda3\\lib\\site-packages\\ray\\tune\\trainable.py\", line 498, in restore_from_object\n",
      "    self.restore(checkpoint_path)\n",
      "  File \"C:\\Users\\bluev\\Anaconda3\\lib\\site-packages\\ray\\tune\\trainable.py\", line 476, in restore\n",
      "    self.load_checkpoint(checkpoint_path)\n",
      "  File \"C:\\Users\\bluev\\Anaconda3\\lib\\site-packages\\ray\\tune\\trainable.py\", line 853, in load_checkpoint\n",
      "    self._restore(checkpoint)\n",
      "  File \"<ipython-input-57-0b176034c084>\", line 24, in _restore\n",
      "  File \"C:\\Users\\bluev\\Anaconda3\\lib\\site-packages\\torch\\nn\\modules\\module.py\", line 1044, in load_state_dict\n",
      "    raise RuntimeError('Error(s) in loading state_dict for {}:\\n\\t{}'.format(\n",
      "RuntimeError: Error(s) in loading state_dict for Net:\n",
      "\tsize mismatch for fc1.weight: copying a param with shape torch.Size([196, 784]) from checkpoint, the shape in current model is torch.Size([222, 784]).\n",
      "\tsize mismatch for fc1.bias: copying a param with shape torch.Size([196]) from checkpoint, the shape in current model is torch.Size([222]).\n",
      "\tsize mismatch for fc2.weight: copying a param with shape torch.Size([10, 196]) from checkpoint, the shape in current model is torch.Size([10, 222]).\n",
      "2020-11-19 16:20:43,500\tERROR worker.py:1037 -- Possible unhandled error from worker: \u001b[36mray::PytorchTrainble.restore_from_object()\u001b[39m (pid=18248, ip=192.168.1.41)\n",
      "  File \"python\\ray\\_raylet.pyx\", line 482, in ray._raylet.execute_task\n",
      "  File \"python\\ray\\_raylet.pyx\", line 436, in ray._raylet.execute_task.function_executor\n",
      "  File \"C:\\Users\\bluev\\Anaconda3\\lib\\site-packages\\ray\\function_manager.py\", line 553, in actor_method_executor\n",
      "    return method(actor, *args, **kwargs)\n",
      "  File \"C:\\Users\\bluev\\Anaconda3\\lib\\site-packages\\ray\\tune\\trainable.py\", line 498, in restore_from_object\n",
      "    self.restore(checkpoint_path)\n",
      "  File \"C:\\Users\\bluev\\Anaconda3\\lib\\site-packages\\ray\\tune\\trainable.py\", line 476, in restore\n",
      "    self.load_checkpoint(checkpoint_path)\n",
      "  File \"C:\\Users\\bluev\\Anaconda3\\lib\\site-packages\\ray\\tune\\trainable.py\", line 853, in load_checkpoint\n",
      "    self._restore(checkpoint)\n",
      "  File \"<ipython-input-57-0b176034c084>\", line 24, in _restore\n",
      "  File \"C:\\Users\\bluev\\Anaconda3\\lib\\site-packages\\torch\\nn\\modules\\module.py\", line 1044, in load_state_dict\n",
      "    raise RuntimeError('Error(s) in loading state_dict for {}:\\n\\t{}'.format(\n",
      "RuntimeError: Error(s) in loading state_dict for Net:\n",
      "\tsize mismatch for fc1.weight: copying a param with shape torch.Size([196, 784]) from checkpoint, the shape in current model is torch.Size([159, 784]).\n",
      "\tsize mismatch for fc1.bias: copying a param with shape torch.Size([196]) from checkpoint, the shape in current model is torch.Size([159]).\n",
      "\tsize mismatch for fc2.weight: copying a param with shape torch.Size([10, 196]) from checkpoint, the shape in current model is torch.Size([10, 159]).\n",
      "2020-11-19 16:20:44,503\tERROR worker.py:1037 -- Possible unhandled error from worker: \u001b[36mray::PytorchTrainble.restore_from_object()\u001b[39m (pid=9376, ip=192.168.1.41)\n",
      "  File \"python\\ray\\_raylet.pyx\", line 482, in ray._raylet.execute_task\n",
      "  File \"python\\ray\\_raylet.pyx\", line 436, in ray._raylet.execute_task.function_executor\n",
      "  File \"C:\\Users\\bluev\\Anaconda3\\lib\\site-packages\\ray\\function_manager.py\", line 553, in actor_method_executor\n",
      "    return method(actor, *args, **kwargs)\n",
      "  File \"C:\\Users\\bluev\\Anaconda3\\lib\\site-packages\\ray\\tune\\trainable.py\", line 498, in restore_from_object\n",
      "    self.restore(checkpoint_path)\n",
      "  File \"C:\\Users\\bluev\\Anaconda3\\lib\\site-packages\\ray\\tune\\trainable.py\", line 476, in restore\n",
      "    self.load_checkpoint(checkpoint_path)\n",
      "  File \"C:\\Users\\bluev\\Anaconda3\\lib\\site-packages\\ray\\tune\\trainable.py\", line 853, in load_checkpoint\n",
      "    self._restore(checkpoint)\n",
      "  File \"<ipython-input-57-0b176034c084>\", line 24, in _restore\n",
      "  File \"C:\\Users\\bluev\\Anaconda3\\lib\\site-packages\\torch\\nn\\modules\\module.py\", line 1044, in load_state_dict\n",
      "    raise RuntimeError('Error(s) in loading state_dict for {}:\\n\\t{}'.format(\n",
      "RuntimeError: Error(s) in loading state_dict for Net:\n",
      "\tsize mismatch for fc1.weight: copying a param with shape torch.Size([196, 784]) from checkpoint, the shape in current model is torch.Size([222, 784]).\n",
      "\tsize mismatch for fc1.bias: copying a param with shape torch.Size([196]) from checkpoint, the shape in current model is torch.Size([222]).\n",
      "\tsize mismatch for fc2.weight: copying a param with shape torch.Size([10, 196]) from checkpoint, the shape in current model is torch.Size([10, 222]).\n",
      "2020-11-19 16:20:44,503\tERROR worker.py:1037 -- Possible unhandled error from worker: \u001b[36mray::PytorchTrainble.restore_from_object()\u001b[39m (pid=18248, ip=192.168.1.41)\n",
      "  File \"python\\ray\\_raylet.pyx\", line 482, in ray._raylet.execute_task\n",
      "  File \"python\\ray\\_raylet.pyx\", line 436, in ray._raylet.execute_task.function_executor\n",
      "  File \"C:\\Users\\bluev\\Anaconda3\\lib\\site-packages\\ray\\function_manager.py\", line 553, in actor_method_executor\n",
      "    return method(actor, *args, **kwargs)\n",
      "  File \"C:\\Users\\bluev\\Anaconda3\\lib\\site-packages\\ray\\tune\\trainable.py\", line 498, in restore_from_object\n",
      "    self.restore(checkpoint_path)\n",
      "  File \"C:\\Users\\bluev\\Anaconda3\\lib\\site-packages\\ray\\tune\\trainable.py\", line 476, in restore\n",
      "    self.load_checkpoint(checkpoint_path)\n",
      "  File \"C:\\Users\\bluev\\Anaconda3\\lib\\site-packages\\ray\\tune\\trainable.py\", line 853, in load_checkpoint\n",
      "    self._restore(checkpoint)\n",
      "  File \"<ipython-input-57-0b176034c084>\", line 24, in _restore\n",
      "  File \"C:\\Users\\bluev\\Anaconda3\\lib\\site-packages\\torch\\nn\\modules\\module.py\", line 1044, in load_state_dict\n",
      "    raise RuntimeError('Error(s) in loading state_dict for {}:\\n\\t{}'.format(\n",
      "RuntimeError: Error(s) in loading state_dict for Net:\n",
      "\tsize mismatch for fc1.weight: copying a param with shape torch.Size([148, 784]) from checkpoint, the shape in current model is torch.Size([159, 784]).\n",
      "\tsize mismatch for fc1.bias: copying a param with shape torch.Size([148]) from checkpoint, the shape in current model is torch.Size([159]).\n",
      "\tsize mismatch for fc2.weight: copying a param with shape torch.Size([10, 148]) from checkpoint, the shape in current model is torch.Size([10, 159]).\n"
     ]
    }
   ],
   "source": [
    "ray.shutdown()  # Restart Ray defensively in case the ray connection is lost. \n",
    "ray.init(log_to_driver=False)\n",
    "\n",
    "\n",
    "analysis = tune.run(\n",
    "    PytorchTrainble,\n",
    "    name=\"pbt_test\",\n",
    "    scheduler=scheduler,\n",
    "    reuse_actors=True,\n",
    "    verbose=1,\n",
    "    stop={\n",
    "        \"training_iteration\": 100,\n",
    "    },\n",
    "    num_samples=8,\n",
    "    \n",
    "    # PBT starts by training many neural networks in parallel with random hyperparameters. \n",
    "    config={\n",
    "        \"lr\": tune.uniform(0.001, 0.1),\n",
    "        \"momentum\": tune.uniform(0.001, 1),\n",
    "        \"num_unit\": tune.randint(100,400),\n",
    "    })"
   ]
  },
  {
   "cell_type": "markdown",
   "metadata": {},
   "source": [
    "I am trying to understand the warning message... it seemed to have size mismatching issues but didn't stop running, or generating compelling errors...\n",
    "The results are good, and couples of combinations achieved accuracy above 98%. It is definitely a lot easier than doing by hand. Next step I might try to add more layers, and different numbers of neurons in each layer."
   ]
  },
  {
   "cell_type": "code",
   "execution_count": 64,
   "metadata": {},
   "outputs": [
    {
     "data": {
      "text/plain": [
       "<Figure size 1440x360 with 0 Axes>"
      ]
     },
     "metadata": {},
     "output_type": "display_data"
    },
    {
     "data": {
      "image/png": "[encoded data removed]",
      "text/plain": [
       "<Figure size 432x288 with 1 Axes>"
      ]
     },
     "metadata": {
      "needs_background": "light"
     },
     "output_type": "display_data"
    }
   ],
   "source": [
    "import matplotlib.pyplot as plt\n",
    "#Plot by wall-clock time\n",
    "plt.figure(figsize=(20,5))\n",
    "\n",
    "dfs = analysis.fetch_trial_dataframes()\n",
    "# This plots everything on the same plot\n",
    "ax = None\n",
    "for d in dfs.values():\n",
    "    ax = d.plot(\"training_iteration\", \"mean_accuracy\", ax=ax, legend=False)\n",
    "\n",
    "plt.xlabel(\"epoch\"); plt.ylabel(\"Test Accuracy\");"
   ]
  },
  {
   "cell_type": "code",
   "execution_count": null,
   "metadata": {},
   "outputs": [],
   "source": []
  }
 ],
 "metadata": {
  "kernelspec": {
   "display_name": "Python 3",
   "language": "python",
   "name": "python3"
  },
  "language_info": {
   "codemirror_mode": {
    "name": "ipython",
    "version": 3
   },
   "file_extension": ".py",
   "mimetype": "text/x-python",
   "name": "python",
   "nbconvert_exporter": "python",
   "pygments_lexer": "ipython3",
   "version": "3.8.3"
  }
 },
 "nbformat": 4,
 "nbformat_minor": 4
}
