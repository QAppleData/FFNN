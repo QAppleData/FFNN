{
 "cells": [
  {
   "cell_type": "code",
   "execution_count": 1,
   "metadata": {},
   "outputs": [],
   "source": [
    "import torch\n",
    "import torch.nn as nn\n",
    "import torch.optim as optim\n",
    "import torch.nn.functional as F\n",
    "import torchvision\n",
    "import torch.utils.data\n",
    "import torchvision.transforms as transforms"
   ]
  },
  {
   "cell_type": "code",
   "execution_count": 2,
   "metadata": {},
   "outputs": [],
   "source": [
    "transform = transforms.Compose([transforms.ToTensor(),transforms.Normalize((0.1307), ((0.3081)))])"
   ]
  },
  {
   "cell_type": "code",
   "execution_count": 3,
   "metadata": {},
   "outputs": [],
   "source": [
    "trainset = torchvision.datasets.MNIST('mnist', train=True, download=True, transform=transform)\n",
    "testset = torchvision.datasets.MNIST('mnist', train=False, download=True, transform=transform)"
   ]
  },
  {
   "cell_type": "code",
   "execution_count": 4,
   "metadata": {},
   "outputs": [],
   "source": [
    "# try batch size 32 64 128\n",
    "trainloader = torch.utils.data.DataLoader(trainset, batch_size=128,shuffle=True, num_workers=0)\n",
    "testloader = torch.utils.data.DataLoader(testset, batch_size=128,shuffle=False, num_workers=0) "
   ]
  },
  {
   "cell_type": "code",
   "execution_count": 5,
   "metadata": {},
   "outputs": [],
   "source": [
    "# Define the class Net\n",
    "class Net(nn.Module):\n",
    "    def __init__(self,layers):    \n",
    "        #create a list of number of neurons for each layer using nn.ModuleList\n",
    "        super(Net, self).__init__()\n",
    "        self.hidden = nn.ModuleList()\n",
    "        \n",
    "        for input_size, output_size in zip(layers,layers[1:]):\n",
    "            self.hidden.append(nn.Linear(input_size,output_size))#Apply a linear transformation to input_size\n",
    "\n",
    "    def forward(self, x):   \n",
    "        L = len(self.hidden)\n",
    "        #Loop through each layer\n",
    "        for(l,linear_transform) in zip(range(L),self.hidden):\n",
    "            if l < L-1:\n",
    "                x = F.relu(linear_transform(x))\n",
    "            else:\n",
    "                x = linear_transform(x)\n",
    "        return x"
   ]
  },
  {
   "cell_type": "code",
   "execution_count": 9,
   "metadata": {},
   "outputs": [],
   "source": [
    "# Create a list of combinations to try out\n",
    "try_list = [[784,10,10,10],[784,100,10,10],[784,100,100,10],# 2 hidden layers\n",
    "            [784,10,10,10,10],[784,100,10,10,10],[784,100,100,10,10],[784,100,100,100,10],# 3 hidden layers\n",
    "            [784,10,10,10,10,10],[784,100,10,10,10,10],[784,100,100,100,10,10]] # 4 hidden layers"
   ]
  },
  {
   "cell_type": "code",
   "execution_count": 12,
   "metadata": {},
   "outputs": [
    {
     "name": "stdout",
     "output_type": "stream",
     "text": [
      "The testing set accuracy of the network is: 92 %\n",
      "The testing set accuracy of the network is: 91 %\n",
      "The testing set accuracy of the network is: 97 %\n",
      "The testing set accuracy of the network is: 97 %\n",
      "The testing set accuracy of the network is: 97 %\n",
      "The testing set accuracy of the network is: 97 %\n",
      "The testing set accuracy of the network is: 97 %\n",
      "The testing set accuracy of the network is: 96 %\n",
      "The testing set accuracy of the network is: 96 %\n",
      "The testing set accuracy of the network is: 97 %\n"
     ]
    }
   ],
   "source": [
    "for layers in try_list:  \n",
    "# Instantiate the Adam optimizer and Cross-Entropy loss function, I moved it into the for loop, seemed to be working fine.\n",
    "    model = Net(layers)   \n",
    "    optimizer = optim.Adam(model.parameters(), lr=3e-4)#Try lr = .....\n",
    "    criterion = nn.CrossEntropyLoss()\n",
    "    for epoch in range(10):\n",
    "        for batch_idx, data_target in enumerate(trainloader):\n",
    "            data = data_target[0]\n",
    "            target = data_target[1]\n",
    "            data = data.view(-1, 28 * 28)\n",
    "            optimizer.zero_grad()\n",
    "            # Complete a forward pass\n",
    "            output = model(data)\n",
    "            # Compute the loss, gradients and change the weights\n",
    "            loss = criterion(output,target)\n",
    "            loss.backward()\n",
    "            optimizer.step()\n",
    "        \n",
    "    correct, total = 0, 0\n",
    "    model.eval()\n",
    "\n",
    "    for i, data in enumerate(testloader, 0):\n",
    "        inputs, labels = data\n",
    "    \n",
    "        # Put each image into a vector\n",
    "        inputs = inputs.view(-1,28*28 )\n",
    "    \n",
    "        # Do the forward pass and get the predictions\n",
    "        outputs = model(inputs)\n",
    "        _, outputs = torch.max(outputs.data, 1)\n",
    "        total += labels.size(0)\n",
    "        correct += (outputs == labels).sum().item()\n",
    "    print('The testing set accuracy of the network is: %d %%' % (100 * correct / total))"
   ]
  }
 ],
 "metadata": {
  "kernelspec": {
   "display_name": "Python 3",
   "language": "python",
   "name": "python3"
  },
  "language_info": {
   "codemirror_mode": {
    "name": "ipython",
    "version": 3
   },
   "file_extension": ".py",
   "mimetype": "text/x-python",
   "name": "python",
   "nbconvert_exporter": "python",
   "pygments_lexer": "ipython3",
   "version": "3.8.3"
  }
 },
 "nbformat": 4,
 "nbformat_minor": 4
}
